{
  "nbformat": 4,
  "nbformat_minor": 0,
  "metadata": {
    "kernelspec": {
      "display_name": "Python 3",
      "language": "python",
      "name": "python3"
    },
    "colab": {
      "name": "index.ipynb",
      "provenance": []
    }
  },
  "cells": [
    {
      "cell_type": "code",
      "metadata": {
        "id": "NeWPKy7Rxleo"
      },
      "source": [
        "#hide\n",
        "#from your_lib.core import *"
      ],
      "execution_count": null,
      "outputs": []
    },
    {
      "cell_type": "markdown",
      "metadata": {
        "id": "WxH0Xcxlxlew"
      },
      "source": [
        "# Project name here\n",
        "\n",
        "> Summary description here."
      ]
    },
    {
      "cell_type": "markdown",
      "metadata": {
        "id": "OtxI5skMxlew"
      },
      "source": [
        "This file will become your README and also the index of your documentation."
      ]
    },
    {
      "cell_type": "markdown",
      "metadata": {
        "id": "6HTDzFYcxlex"
      },
      "source": [
        "## Install"
      ]
    },
    {
      "cell_type": "markdown",
      "metadata": {
        "id": "qIOa5nLkxlex"
      },
      "source": [
        "`pip install your_project_name`"
      ]
    },
    {
      "cell_type": "markdown",
      "metadata": {
        "id": "IVHw8C6jxlex"
      },
      "source": [
        "## How to use"
      ]
    },
    {
      "cell_type": "markdown",
      "metadata": {
        "id": "etMXhQb6xley"
      },
      "source": [
        "Fill me in please! Don't forget code examples:"
      ]
    },
    {
      "cell_type": "code",
      "metadata": {
        "id": "WzlUafl-xley",
        "outputId": "e14c45fb-863d-4388-ecf3-960a357a522c"
      },
      "source": [
        "1+1"
      ],
      "execution_count": null,
      "outputs": [
        {
          "output_type": "execute_result",
          "data": {
            "text/plain": [
              "2"
            ]
          },
          "metadata": {
            "tags": []
          },
          "execution_count": 0
        }
      ]
    },
    {
      "cell_type": "code",
      "metadata": {
        "id": "nmDSiCA1xle0"
      },
      "source": [
        ""
      ],
      "execution_count": null,
      "outputs": []
    }
  ]
}